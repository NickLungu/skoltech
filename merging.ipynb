{
  "nbformat": 4,
  "nbformat_minor": 0,
  "metadata": {
    "colab": {
      "provenance": [],
      "collapsed_sections": []
    },
    "kernelspec": {
      "name": "python3",
      "display_name": "Python 3"
    },
    "language_info": {
      "name": "python"
    }
  },
  "cells": [
    {
      "cell_type": "code",
      "execution_count": 1,
      "metadata": {
        "id": "dYwEqODNvn1p"
      },
      "outputs": [],
      "source": [
        "import pandas as pd\n",
        "import numpy as np\n",
        "import matplotlib.pyplot as plt\n",
        "from sklearn.preprocessing import LabelEncoder as le"
      ]
    },
    {
      "cell_type": "code",
      "source": [
        "from google.colab import drive\n",
        "drive.mount('/content/drive')"
      ],
      "metadata": {
        "colab": {
          "base_uri": "https://localhost:8080/"
        },
        "id": "HXd1RB_0oOGK",
        "outputId": "e520fc2f-6cd1-45c2-d5b0-4cf9793f6973"
      },
      "execution_count": 2,
      "outputs": [
        {
          "output_type": "stream",
          "name": "stdout",
          "text": [
            "Mounted at /content/drive\n"
          ]
        }
      ]
    },
    {
      "cell_type": "code",
      "source": [
        "data_candidates = pd.read_csv(\"/content/drive/MyDrive/skolhack/final csv/data_candidates_fin.csv\")\n",
        "\n",
        "data_candidates_education = pd.read_csv(\"/content/drive/MyDrive/skolhack/final csv/data_candidates_education_fin.csv\")\n",
        "\n",
        "data_candidates_work_places = pd.read_csv(\"/content/drive/MyDrive/skolhack/final csv/data_candidates_work_places_fin.csv\")\n",
        "\n",
        "data_jobs_final = pd.read_csv(\"/content/drive/MyDrive/skolhack/final csv/data_jobs_fin.csv\")"
      ],
      "metadata": {
        "id": "aXaPryKY_bUD"
      },
      "execution_count": 3,
      "outputs": []
    },
    {
      "cell_type": "code",
      "source": [
        "data_candidates_education.rename(columns={'len':'num_educ'},inplace=True)"
      ],
      "metadata": {
        "id": "QJCvGwlGr-9l"
      },
      "execution_count": 4,
      "outputs": []
    },
    {
      "cell_type": "code",
      "source": [
        "data_4train = pd.concat([data_candidates, data_candidates_work_places,data_candidates_education,data_jobs_final], axis=1)\n",
        "# data_4train = pd.concat([data_candidates, data_candidates_work_places], axis=1)\n",
        "data_4train.head(5)"
      ],
      "metadata": {
        "colab": {
          "base_uri": "https://localhost:8080/",
          "height": 386
        },
        "id": "khFMSMnJ6s6x",
        "outputId": "49022359-dd16-454f-c7eb-62ec2871e266"
      },
      "execution_count": 5,
      "outputs": [
        {
          "output_type": "execute_result",
          "data": {
            "text/plain": [
              "   Sex  Age  Salary Employment Shedule                  DateCreated  JobId  \\\n",
              "0    2   21       0       Full    Full  2014-01-15 00:00:00.0000000    163   \n",
              "1    2   23       0       Full    Full  2014-01-15 00:00:00.0000000    163   \n",
              "2    2   31       0       Full    Full  2014-01-15 00:00:00.0000000    163   \n",
              "3    2   23       0       Full    Full  2014-01-15 00:00:00.0000000    163   \n",
              "4    2   27       0       Full    Full  2014-01-15 00:00:00.0000000    163   \n",
              "\n",
              "   CandidateStatusId    Status  code_status  ...  len  CandidateId  num_educ  \\\n",
              "0               1425  Отклонен          0.0  ...  2.0     576620.0       1.0   \n",
              "1               1425  Отклонен          0.0  ...  1.0     614684.0       1.0   \n",
              "2               1425  Отклонен          0.0  ...  5.0     614712.0       1.0   \n",
              "3               1425  Отклонен          0.0  ...  1.0     614734.0       1.0   \n",
              "4               1425  Отклонен          0.0  ...  2.0     614735.0       1.0   \n",
              "\n",
              "   year_median  year_last  JobId  Status           Region  name_coded  shedule  \n",
              "0       1999.0     1999.0  163.0     4.0  Санкт-Петербург  экспедитор      NaN  \n",
              "1       1994.0     1994.0  211.0     4.0  Санкт-Петербург    Водитель      NaN  \n",
              "2       1995.0     1995.0  232.0     2.0  Санкт-Петербург    Водитель      NaN  \n",
              "3       2007.0     2007.0  288.0     2.0  Санкт-Петербург    Водитель      NaN  \n",
              "4       2011.0     2011.0  292.0     4.0  Санкт-Петербург    Водитель      NaN  \n",
              "\n",
              "[5 rows x 27 columns]"
            ],
            "text/html": [
              "\n",
              "  <div id=\"df-35ea2821-93c3-4fd7-b7a4-0c42217135b7\">\n",
              "    <div class=\"colab-df-container\">\n",
              "      <div>\n",
              "<style scoped>\n",
              "    .dataframe tbody tr th:only-of-type {\n",
              "        vertical-align: middle;\n",
              "    }\n",
              "\n",
              "    .dataframe tbody tr th {\n",
              "        vertical-align: top;\n",
              "    }\n",
              "\n",
              "    .dataframe thead th {\n",
              "        text-align: right;\n",
              "    }\n",
              "</style>\n",
              "<table border=\"1\" class=\"dataframe\">\n",
              "  <thead>\n",
              "    <tr style=\"text-align: right;\">\n",
              "      <th></th>\n",
              "      <th>Sex</th>\n",
              "      <th>Age</th>\n",
              "      <th>Salary</th>\n",
              "      <th>Employment</th>\n",
              "      <th>Shedule</th>\n",
              "      <th>DateCreated</th>\n",
              "      <th>JobId</th>\n",
              "      <th>CandidateStatusId</th>\n",
              "      <th>Status</th>\n",
              "      <th>code_status</th>\n",
              "      <th>...</th>\n",
              "      <th>len</th>\n",
              "      <th>CandidateId</th>\n",
              "      <th>num_educ</th>\n",
              "      <th>year_median</th>\n",
              "      <th>year_last</th>\n",
              "      <th>JobId</th>\n",
              "      <th>Status</th>\n",
              "      <th>Region</th>\n",
              "      <th>name_coded</th>\n",
              "      <th>shedule</th>\n",
              "    </tr>\n",
              "  </thead>\n",
              "  <tbody>\n",
              "    <tr>\n",
              "      <th>0</th>\n",
              "      <td>2</td>\n",
              "      <td>21</td>\n",
              "      <td>0</td>\n",
              "      <td>Full</td>\n",
              "      <td>Full</td>\n",
              "      <td>2014-01-15 00:00:00.0000000</td>\n",
              "      <td>163</td>\n",
              "      <td>1425</td>\n",
              "      <td>Отклонен</td>\n",
              "      <td>0.0</td>\n",
              "      <td>...</td>\n",
              "      <td>2.0</td>\n",
              "      <td>576620.0</td>\n",
              "      <td>1.0</td>\n",
              "      <td>1999.0</td>\n",
              "      <td>1999.0</td>\n",
              "      <td>163.0</td>\n",
              "      <td>4.0</td>\n",
              "      <td>Санкт-Петербург</td>\n",
              "      <td>экспедитор</td>\n",
              "      <td>NaN</td>\n",
              "    </tr>\n",
              "    <tr>\n",
              "      <th>1</th>\n",
              "      <td>2</td>\n",
              "      <td>23</td>\n",
              "      <td>0</td>\n",
              "      <td>Full</td>\n",
              "      <td>Full</td>\n",
              "      <td>2014-01-15 00:00:00.0000000</td>\n",
              "      <td>163</td>\n",
              "      <td>1425</td>\n",
              "      <td>Отклонен</td>\n",
              "      <td>0.0</td>\n",
              "      <td>...</td>\n",
              "      <td>1.0</td>\n",
              "      <td>614684.0</td>\n",
              "      <td>1.0</td>\n",
              "      <td>1994.0</td>\n",
              "      <td>1994.0</td>\n",
              "      <td>211.0</td>\n",
              "      <td>4.0</td>\n",
              "      <td>Санкт-Петербург</td>\n",
              "      <td>Водитель</td>\n",
              "      <td>NaN</td>\n",
              "    </tr>\n",
              "    <tr>\n",
              "      <th>2</th>\n",
              "      <td>2</td>\n",
              "      <td>31</td>\n",
              "      <td>0</td>\n",
              "      <td>Full</td>\n",
              "      <td>Full</td>\n",
              "      <td>2014-01-15 00:00:00.0000000</td>\n",
              "      <td>163</td>\n",
              "      <td>1425</td>\n",
              "      <td>Отклонен</td>\n",
              "      <td>0.0</td>\n",
              "      <td>...</td>\n",
              "      <td>5.0</td>\n",
              "      <td>614712.0</td>\n",
              "      <td>1.0</td>\n",
              "      <td>1995.0</td>\n",
              "      <td>1995.0</td>\n",
              "      <td>232.0</td>\n",
              "      <td>2.0</td>\n",
              "      <td>Санкт-Петербург</td>\n",
              "      <td>Водитель</td>\n",
              "      <td>NaN</td>\n",
              "    </tr>\n",
              "    <tr>\n",
              "      <th>3</th>\n",
              "      <td>2</td>\n",
              "      <td>23</td>\n",
              "      <td>0</td>\n",
              "      <td>Full</td>\n",
              "      <td>Full</td>\n",
              "      <td>2014-01-15 00:00:00.0000000</td>\n",
              "      <td>163</td>\n",
              "      <td>1425</td>\n",
              "      <td>Отклонен</td>\n",
              "      <td>0.0</td>\n",
              "      <td>...</td>\n",
              "      <td>1.0</td>\n",
              "      <td>614734.0</td>\n",
              "      <td>1.0</td>\n",
              "      <td>2007.0</td>\n",
              "      <td>2007.0</td>\n",
              "      <td>288.0</td>\n",
              "      <td>2.0</td>\n",
              "      <td>Санкт-Петербург</td>\n",
              "      <td>Водитель</td>\n",
              "      <td>NaN</td>\n",
              "    </tr>\n",
              "    <tr>\n",
              "      <th>4</th>\n",
              "      <td>2</td>\n",
              "      <td>27</td>\n",
              "      <td>0</td>\n",
              "      <td>Full</td>\n",
              "      <td>Full</td>\n",
              "      <td>2014-01-15 00:00:00.0000000</td>\n",
              "      <td>163</td>\n",
              "      <td>1425</td>\n",
              "      <td>Отклонен</td>\n",
              "      <td>0.0</td>\n",
              "      <td>...</td>\n",
              "      <td>2.0</td>\n",
              "      <td>614735.0</td>\n",
              "      <td>1.0</td>\n",
              "      <td>2011.0</td>\n",
              "      <td>2011.0</td>\n",
              "      <td>292.0</td>\n",
              "      <td>4.0</td>\n",
              "      <td>Санкт-Петербург</td>\n",
              "      <td>Водитель</td>\n",
              "      <td>NaN</td>\n",
              "    </tr>\n",
              "  </tbody>\n",
              "</table>\n",
              "<p>5 rows × 27 columns</p>\n",
              "</div>\n",
              "      <button class=\"colab-df-convert\" onclick=\"convertToInteractive('df-35ea2821-93c3-4fd7-b7a4-0c42217135b7')\"\n",
              "              title=\"Convert this dataframe to an interactive table.\"\n",
              "              style=\"display:none;\">\n",
              "        \n",
              "  <svg xmlns=\"http://www.w3.org/2000/svg\" height=\"24px\"viewBox=\"0 0 24 24\"\n",
              "       width=\"24px\">\n",
              "    <path d=\"M0 0h24v24H0V0z\" fill=\"none\"/>\n",
              "    <path d=\"M18.56 5.44l.94 2.06.94-2.06 2.06-.94-2.06-.94-.94-2.06-.94 2.06-2.06.94zm-11 1L8.5 8.5l.94-2.06 2.06-.94-2.06-.94L8.5 2.5l-.94 2.06-2.06.94zm10 10l.94 2.06.94-2.06 2.06-.94-2.06-.94-.94-2.06-.94 2.06-2.06.94z\"/><path d=\"M17.41 7.96l-1.37-1.37c-.4-.4-.92-.59-1.43-.59-.52 0-1.04.2-1.43.59L10.3 9.45l-7.72 7.72c-.78.78-.78 2.05 0 2.83L4 21.41c.39.39.9.59 1.41.59.51 0 1.02-.2 1.41-.59l7.78-7.78 2.81-2.81c.8-.78.8-2.07 0-2.86zM5.41 20L4 18.59l7.72-7.72 1.47 1.35L5.41 20z\"/>\n",
              "  </svg>\n",
              "      </button>\n",
              "      \n",
              "  <style>\n",
              "    .colab-df-container {\n",
              "      display:flex;\n",
              "      flex-wrap:wrap;\n",
              "      gap: 12px;\n",
              "    }\n",
              "\n",
              "    .colab-df-convert {\n",
              "      background-color: #E8F0FE;\n",
              "      border: none;\n",
              "      border-radius: 50%;\n",
              "      cursor: pointer;\n",
              "      display: none;\n",
              "      fill: #1967D2;\n",
              "      height: 32px;\n",
              "      padding: 0 0 0 0;\n",
              "      width: 32px;\n",
              "    }\n",
              "\n",
              "    .colab-df-convert:hover {\n",
              "      background-color: #E2EBFA;\n",
              "      box-shadow: 0px 1px 2px rgba(60, 64, 67, 0.3), 0px 1px 3px 1px rgba(60, 64, 67, 0.15);\n",
              "      fill: #174EA6;\n",
              "    }\n",
              "\n",
              "    [theme=dark] .colab-df-convert {\n",
              "      background-color: #3B4455;\n",
              "      fill: #D2E3FC;\n",
              "    }\n",
              "\n",
              "    [theme=dark] .colab-df-convert:hover {\n",
              "      background-color: #434B5C;\n",
              "      box-shadow: 0px 1px 3px 1px rgba(0, 0, 0, 0.15);\n",
              "      filter: drop-shadow(0px 1px 2px rgba(0, 0, 0, 0.3));\n",
              "      fill: #FFFFFF;\n",
              "    }\n",
              "  </style>\n",
              "\n",
              "      <script>\n",
              "        const buttonEl =\n",
              "          document.querySelector('#df-35ea2821-93c3-4fd7-b7a4-0c42217135b7 button.colab-df-convert');\n",
              "        buttonEl.style.display =\n",
              "          google.colab.kernel.accessAllowed ? 'block' : 'none';\n",
              "\n",
              "        async function convertToInteractive(key) {\n",
              "          const element = document.querySelector('#df-35ea2821-93c3-4fd7-b7a4-0c42217135b7');\n",
              "          const dataTable =\n",
              "            await google.colab.kernel.invokeFunction('convertToInteractive',\n",
              "                                                     [key], {});\n",
              "          if (!dataTable) return;\n",
              "\n",
              "          const docLinkHtml = 'Like what you see? Visit the ' +\n",
              "            '<a target=\"_blank\" href=https://colab.research.google.com/notebooks/data_table.ipynb>data table notebook</a>'\n",
              "            + ' to learn more about interactive tables.';\n",
              "          element.innerHTML = '';\n",
              "          dataTable['output_type'] = 'display_data';\n",
              "          await google.colab.output.renderOutput(dataTable, element);\n",
              "          const docLink = document.createElement('div');\n",
              "          docLink.innerHTML = docLinkHtml;\n",
              "          element.appendChild(docLink);\n",
              "        }\n",
              "      </script>\n",
              "    </div>\n",
              "  </div>\n",
              "  "
            ]
          },
          "metadata": {},
          "execution_count": 5
        }
      ]
    },
    {
      "cell_type": "code",
      "source": [
        "data_4train.columns"
      ],
      "metadata": {
        "colab": {
          "base_uri": "https://localhost:8080/"
        },
        "id": "ojwuylejq2Qx",
        "outputId": "90fe9ae6-7a25-4760-a73e-6499d42793ce"
      },
      "execution_count": 6,
      "outputs": [
        {
          "output_type": "execute_result",
          "data": {
            "text/plain": [
              "Index(['Sex', 'Age', 'Salary', 'Employment', 'Shedule', 'DateCreated', 'JobId',\n",
              "       'CandidateStatusId', 'Status', 'code_status', 'region_short', 'drive_A',\n",
              "       'drive_B', 'drive_C', 'drive_D', 'CandidateId', 'Period', 'len',\n",
              "       'CandidateId', 'num_educ', 'year_median', 'year_last', 'JobId',\n",
              "       'Status', 'Region', 'name_coded', 'shedule'],\n",
              "      dtype='object')"
            ]
          },
          "metadata": {},
          "execution_count": 6
        }
      ]
    },
    {
      "cell_type": "code",
      "source": [
        "data_4train.drop(columns=['JobId','CandidateStatusId','Status','CandidateId'],axis=1,inplace=True)"
      ],
      "metadata": {
        "id": "n5MlOv8kq5YF"
      },
      "execution_count": 7,
      "outputs": []
    },
    {
      "cell_type": "code",
      "source": [
        "data_4train.head()"
      ],
      "metadata": {
        "colab": {
          "base_uri": "https://localhost:8080/",
          "height": 357
        },
        "id": "9tw6SgxksfMo",
        "outputId": "9ca81c7d-6bd7-4e24-9c1f-34bcef38de96"
      },
      "execution_count": 8,
      "outputs": [
        {
          "output_type": "execute_result",
          "data": {
            "text/plain": [
              "   Sex  Age  Salary Employment Shedule                  DateCreated  \\\n",
              "0    2   21       0       Full    Full  2014-01-15 00:00:00.0000000   \n",
              "1    2   23       0       Full    Full  2014-01-15 00:00:00.0000000   \n",
              "2    2   31       0       Full    Full  2014-01-15 00:00:00.0000000   \n",
              "3    2   23       0       Full    Full  2014-01-15 00:00:00.0000000   \n",
              "4    2   27       0       Full    Full  2014-01-15 00:00:00.0000000   \n",
              "\n",
              "   code_status     region_short  drive_A  drive_B  drive_C  drive_D  Period  \\\n",
              "0          0.0  Санкт-Петербург        0        0        0        0    20.0   \n",
              "1          0.0  Санкт-Петербург        0        0        0        0     3.0   \n",
              "2          0.0  Санкт-Петербург        0        0        0        0    61.0   \n",
              "3          0.0  Санкт-Петербург        0        0        0        0   191.0   \n",
              "4          0.0  Санкт-Петербург        0        0        0        0    23.0   \n",
              "\n",
              "   len  num_educ  year_median  year_last           Region  name_coded shedule  \n",
              "0  2.0       1.0       1999.0     1999.0  Санкт-Петербург  экспедитор     NaN  \n",
              "1  1.0       1.0       1994.0     1994.0  Санкт-Петербург    Водитель     NaN  \n",
              "2  5.0       1.0       1995.0     1995.0  Санкт-Петербург    Водитель     NaN  \n",
              "3  1.0       1.0       2007.0     2007.0  Санкт-Петербург    Водитель     NaN  \n",
              "4  2.0       1.0       2011.0     2011.0  Санкт-Петербург    Водитель     NaN  "
            ],
            "text/html": [
              "\n",
              "  <div id=\"df-dd9d313e-931b-4154-800b-2145c4e4ab7f\">\n",
              "    <div class=\"colab-df-container\">\n",
              "      <div>\n",
              "<style scoped>\n",
              "    .dataframe tbody tr th:only-of-type {\n",
              "        vertical-align: middle;\n",
              "    }\n",
              "\n",
              "    .dataframe tbody tr th {\n",
              "        vertical-align: top;\n",
              "    }\n",
              "\n",
              "    .dataframe thead th {\n",
              "        text-align: right;\n",
              "    }\n",
              "</style>\n",
              "<table border=\"1\" class=\"dataframe\">\n",
              "  <thead>\n",
              "    <tr style=\"text-align: right;\">\n",
              "      <th></th>\n",
              "      <th>Sex</th>\n",
              "      <th>Age</th>\n",
              "      <th>Salary</th>\n",
              "      <th>Employment</th>\n",
              "      <th>Shedule</th>\n",
              "      <th>DateCreated</th>\n",
              "      <th>code_status</th>\n",
              "      <th>region_short</th>\n",
              "      <th>drive_A</th>\n",
              "      <th>drive_B</th>\n",
              "      <th>drive_C</th>\n",
              "      <th>drive_D</th>\n",
              "      <th>Period</th>\n",
              "      <th>len</th>\n",
              "      <th>num_educ</th>\n",
              "      <th>year_median</th>\n",
              "      <th>year_last</th>\n",
              "      <th>Region</th>\n",
              "      <th>name_coded</th>\n",
              "      <th>shedule</th>\n",
              "    </tr>\n",
              "  </thead>\n",
              "  <tbody>\n",
              "    <tr>\n",
              "      <th>0</th>\n",
              "      <td>2</td>\n",
              "      <td>21</td>\n",
              "      <td>0</td>\n",
              "      <td>Full</td>\n",
              "      <td>Full</td>\n",
              "      <td>2014-01-15 00:00:00.0000000</td>\n",
              "      <td>0.0</td>\n",
              "      <td>Санкт-Петербург</td>\n",
              "      <td>0</td>\n",
              "      <td>0</td>\n",
              "      <td>0</td>\n",
              "      <td>0</td>\n",
              "      <td>20.0</td>\n",
              "      <td>2.0</td>\n",
              "      <td>1.0</td>\n",
              "      <td>1999.0</td>\n",
              "      <td>1999.0</td>\n",
              "      <td>Санкт-Петербург</td>\n",
              "      <td>экспедитор</td>\n",
              "      <td>NaN</td>\n",
              "    </tr>\n",
              "    <tr>\n",
              "      <th>1</th>\n",
              "      <td>2</td>\n",
              "      <td>23</td>\n",
              "      <td>0</td>\n",
              "      <td>Full</td>\n",
              "      <td>Full</td>\n",
              "      <td>2014-01-15 00:00:00.0000000</td>\n",
              "      <td>0.0</td>\n",
              "      <td>Санкт-Петербург</td>\n",
              "      <td>0</td>\n",
              "      <td>0</td>\n",
              "      <td>0</td>\n",
              "      <td>0</td>\n",
              "      <td>3.0</td>\n",
              "      <td>1.0</td>\n",
              "      <td>1.0</td>\n",
              "      <td>1994.0</td>\n",
              "      <td>1994.0</td>\n",
              "      <td>Санкт-Петербург</td>\n",
              "      <td>Водитель</td>\n",
              "      <td>NaN</td>\n",
              "    </tr>\n",
              "    <tr>\n",
              "      <th>2</th>\n",
              "      <td>2</td>\n",
              "      <td>31</td>\n",
              "      <td>0</td>\n",
              "      <td>Full</td>\n",
              "      <td>Full</td>\n",
              "      <td>2014-01-15 00:00:00.0000000</td>\n",
              "      <td>0.0</td>\n",
              "      <td>Санкт-Петербург</td>\n",
              "      <td>0</td>\n",
              "      <td>0</td>\n",
              "      <td>0</td>\n",
              "      <td>0</td>\n",
              "      <td>61.0</td>\n",
              "      <td>5.0</td>\n",
              "      <td>1.0</td>\n",
              "      <td>1995.0</td>\n",
              "      <td>1995.0</td>\n",
              "      <td>Санкт-Петербург</td>\n",
              "      <td>Водитель</td>\n",
              "      <td>NaN</td>\n",
              "    </tr>\n",
              "    <tr>\n",
              "      <th>3</th>\n",
              "      <td>2</td>\n",
              "      <td>23</td>\n",
              "      <td>0</td>\n",
              "      <td>Full</td>\n",
              "      <td>Full</td>\n",
              "      <td>2014-01-15 00:00:00.0000000</td>\n",
              "      <td>0.0</td>\n",
              "      <td>Санкт-Петербург</td>\n",
              "      <td>0</td>\n",
              "      <td>0</td>\n",
              "      <td>0</td>\n",
              "      <td>0</td>\n",
              "      <td>191.0</td>\n",
              "      <td>1.0</td>\n",
              "      <td>1.0</td>\n",
              "      <td>2007.0</td>\n",
              "      <td>2007.0</td>\n",
              "      <td>Санкт-Петербург</td>\n",
              "      <td>Водитель</td>\n",
              "      <td>NaN</td>\n",
              "    </tr>\n",
              "    <tr>\n",
              "      <th>4</th>\n",
              "      <td>2</td>\n",
              "      <td>27</td>\n",
              "      <td>0</td>\n",
              "      <td>Full</td>\n",
              "      <td>Full</td>\n",
              "      <td>2014-01-15 00:00:00.0000000</td>\n",
              "      <td>0.0</td>\n",
              "      <td>Санкт-Петербург</td>\n",
              "      <td>0</td>\n",
              "      <td>0</td>\n",
              "      <td>0</td>\n",
              "      <td>0</td>\n",
              "      <td>23.0</td>\n",
              "      <td>2.0</td>\n",
              "      <td>1.0</td>\n",
              "      <td>2011.0</td>\n",
              "      <td>2011.0</td>\n",
              "      <td>Санкт-Петербург</td>\n",
              "      <td>Водитель</td>\n",
              "      <td>NaN</td>\n",
              "    </tr>\n",
              "  </tbody>\n",
              "</table>\n",
              "</div>\n",
              "      <button class=\"colab-df-convert\" onclick=\"convertToInteractive('df-dd9d313e-931b-4154-800b-2145c4e4ab7f')\"\n",
              "              title=\"Convert this dataframe to an interactive table.\"\n",
              "              style=\"display:none;\">\n",
              "        \n",
              "  <svg xmlns=\"http://www.w3.org/2000/svg\" height=\"24px\"viewBox=\"0 0 24 24\"\n",
              "       width=\"24px\">\n",
              "    <path d=\"M0 0h24v24H0V0z\" fill=\"none\"/>\n",
              "    <path d=\"M18.56 5.44l.94 2.06.94-2.06 2.06-.94-2.06-.94-.94-2.06-.94 2.06-2.06.94zm-11 1L8.5 8.5l.94-2.06 2.06-.94-2.06-.94L8.5 2.5l-.94 2.06-2.06.94zm10 10l.94 2.06.94-2.06 2.06-.94-2.06-.94-.94-2.06-.94 2.06-2.06.94z\"/><path d=\"M17.41 7.96l-1.37-1.37c-.4-.4-.92-.59-1.43-.59-.52 0-1.04.2-1.43.59L10.3 9.45l-7.72 7.72c-.78.78-.78 2.05 0 2.83L4 21.41c.39.39.9.59 1.41.59.51 0 1.02-.2 1.41-.59l7.78-7.78 2.81-2.81c.8-.78.8-2.07 0-2.86zM5.41 20L4 18.59l7.72-7.72 1.47 1.35L5.41 20z\"/>\n",
              "  </svg>\n",
              "      </button>\n",
              "      \n",
              "  <style>\n",
              "    .colab-df-container {\n",
              "      display:flex;\n",
              "      flex-wrap:wrap;\n",
              "      gap: 12px;\n",
              "    }\n",
              "\n",
              "    .colab-df-convert {\n",
              "      background-color: #E8F0FE;\n",
              "      border: none;\n",
              "      border-radius: 50%;\n",
              "      cursor: pointer;\n",
              "      display: none;\n",
              "      fill: #1967D2;\n",
              "      height: 32px;\n",
              "      padding: 0 0 0 0;\n",
              "      width: 32px;\n",
              "    }\n",
              "\n",
              "    .colab-df-convert:hover {\n",
              "      background-color: #E2EBFA;\n",
              "      box-shadow: 0px 1px 2px rgba(60, 64, 67, 0.3), 0px 1px 3px 1px rgba(60, 64, 67, 0.15);\n",
              "      fill: #174EA6;\n",
              "    }\n",
              "\n",
              "    [theme=dark] .colab-df-convert {\n",
              "      background-color: #3B4455;\n",
              "      fill: #D2E3FC;\n",
              "    }\n",
              "\n",
              "    [theme=dark] .colab-df-convert:hover {\n",
              "      background-color: #434B5C;\n",
              "      box-shadow: 0px 1px 3px 1px rgba(0, 0, 0, 0.15);\n",
              "      filter: drop-shadow(0px 1px 2px rgba(0, 0, 0, 0.3));\n",
              "      fill: #FFFFFF;\n",
              "    }\n",
              "  </style>\n",
              "\n",
              "      <script>\n",
              "        const buttonEl =\n",
              "          document.querySelector('#df-dd9d313e-931b-4154-800b-2145c4e4ab7f button.colab-df-convert');\n",
              "        buttonEl.style.display =\n",
              "          google.colab.kernel.accessAllowed ? 'block' : 'none';\n",
              "\n",
              "        async function convertToInteractive(key) {\n",
              "          const element = document.querySelector('#df-dd9d313e-931b-4154-800b-2145c4e4ab7f');\n",
              "          const dataTable =\n",
              "            await google.colab.kernel.invokeFunction('convertToInteractive',\n",
              "                                                     [key], {});\n",
              "          if (!dataTable) return;\n",
              "\n",
              "          const docLinkHtml = 'Like what you see? Visit the ' +\n",
              "            '<a target=\"_blank\" href=https://colab.research.google.com/notebooks/data_table.ipynb>data table notebook</a>'\n",
              "            + ' to learn more about interactive tables.';\n",
              "          element.innerHTML = '';\n",
              "          dataTable['output_type'] = 'display_data';\n",
              "          await google.colab.output.renderOutput(dataTable, element);\n",
              "          const docLink = document.createElement('div');\n",
              "          docLink.innerHTML = docLinkHtml;\n",
              "          element.appendChild(docLink);\n",
              "        }\n",
              "      </script>\n",
              "    </div>\n",
              "  </div>\n",
              "  "
            ]
          },
          "metadata": {},
          "execution_count": 8
        }
      ]
    },
    {
      "cell_type": "code",
      "source": [
        "!pip install catboost"
      ],
      "metadata": {
        "colab": {
          "base_uri": "https://localhost:8080/"
        },
        "id": "M7pI72UX92G-",
        "outputId": "03aa58d5-3bd9-4572-9340-0f718813354d"
      },
      "execution_count": 9,
      "outputs": [
        {
          "output_type": "stream",
          "name": "stdout",
          "text": [
            "Looking in indexes: https://pypi.org/simple, https://us-python.pkg.dev/colab-wheels/public/simple/\n",
            "Collecting catboost\n",
            "  Downloading catboost-1.1-cp37-none-manylinux1_x86_64.whl (76.8 MB)\n",
            "\u001b[K     |████████████████████████████████| 76.8 MB 1.2 MB/s \n",
            "\u001b[?25hRequirement already satisfied: numpy>=1.16.0 in /usr/local/lib/python3.7/dist-packages (from catboost) (1.21.6)\n",
            "Requirement already satisfied: graphviz in /usr/local/lib/python3.7/dist-packages (from catboost) (0.10.1)\n",
            "Requirement already satisfied: six in /usr/local/lib/python3.7/dist-packages (from catboost) (1.15.0)\n",
            "Requirement already satisfied: matplotlib in /usr/local/lib/python3.7/dist-packages (from catboost) (3.2.2)\n",
            "Requirement already satisfied: scipy in /usr/local/lib/python3.7/dist-packages (from catboost) (1.7.3)\n",
            "Requirement already satisfied: plotly in /usr/local/lib/python3.7/dist-packages (from catboost) (5.5.0)\n",
            "Requirement already satisfied: pandas>=0.24.0 in /usr/local/lib/python3.7/dist-packages (from catboost) (1.3.5)\n",
            "Requirement already satisfied: pytz>=2017.3 in /usr/local/lib/python3.7/dist-packages (from pandas>=0.24.0->catboost) (2022.4)\n",
            "Requirement already satisfied: python-dateutil>=2.7.3 in /usr/local/lib/python3.7/dist-packages (from pandas>=0.24.0->catboost) (2.8.2)\n",
            "Requirement already satisfied: kiwisolver>=1.0.1 in /usr/local/lib/python3.7/dist-packages (from matplotlib->catboost) (1.4.4)\n",
            "Requirement already satisfied: pyparsing!=2.0.4,!=2.1.2,!=2.1.6,>=2.0.1 in /usr/local/lib/python3.7/dist-packages (from matplotlib->catboost) (3.0.9)\n",
            "Requirement already satisfied: cycler>=0.10 in /usr/local/lib/python3.7/dist-packages (from matplotlib->catboost) (0.11.0)\n",
            "Requirement already satisfied: typing-extensions in /usr/local/lib/python3.7/dist-packages (from kiwisolver>=1.0.1->matplotlib->catboost) (4.1.1)\n",
            "Requirement already satisfied: tenacity>=6.2.0 in /usr/local/lib/python3.7/dist-packages (from plotly->catboost) (8.1.0)\n",
            "Installing collected packages: catboost\n",
            "Successfully installed catboost-1.1\n"
          ]
        }
      ]
    },
    {
      "cell_type": "code",
      "source": [
        "from catboost import CatBoostRegressor"
      ],
      "metadata": {
        "id": "JS1Hcl3R95WW"
      },
      "execution_count": 10,
      "outputs": []
    },
    {
      "cell_type": "code",
      "source": [
        "y = data_4train['code_status']\n",
        "data = data_4train.drop(columns = ['code_status','DateCreated'], axis = 0)"
      ],
      "metadata": {
        "id": "7iH3qXveCz-k"
      },
      "execution_count": 11,
      "outputs": []
    },
    {
      "cell_type": "code",
      "source": [
        "data_4train.Employment.unique()"
      ],
      "metadata": {
        "colab": {
          "base_uri": "https://localhost:8080/"
        },
        "id": "VR3PpG8it-S1",
        "outputId": "a9677e0a-c326-41e8-ef63-2a7d59cd8ab7"
      },
      "execution_count": 12,
      "outputs": [
        {
          "output_type": "execute_result",
          "data": {
            "text/plain": [
              "array(['Full', nan, 'Part', 'Look-out', 'Change', 'does not matter',\n",
              "       'Not full'], dtype=object)"
            ]
          },
          "metadata": {},
          "execution_count": 12
        }
      ]
    },
    {
      "cell_type": "code",
      "source": [
        "data.Employment.fillna('does not matter',inplace=True)"
      ],
      "metadata": {
        "id": "F9E6dtdsuXcT"
      },
      "execution_count": 13,
      "outputs": []
    },
    {
      "cell_type": "code",
      "source": [
        "data.dtypes"
      ],
      "metadata": {
        "id": "hfFOPQ3Htg6D"
      },
      "execution_count": null,
      "outputs": []
    },
    {
      "cell_type": "code",
      "source": [
        "data['Employment'] = data['Employment'].astype('str')\n",
        "data['Shedule'] = data['Shedule'].astype('str')\n",
        "data['shedule'] = data['shedule'].astype('str')\n",
        "data['region_short'] = data['region_short'].astype('str')\n",
        "data['Region'] = data['Region'].astype('str')\n",
        "data['name_coded'] = data['name_coded'].astype('str')"
      ],
      "metadata": {
        "id": "6K35tmJ6C-cX"
      },
      "execution_count": 15,
      "outputs": []
    },
    {
      "cell_type": "code",
      "source": [
        "model = CatBoostRegressor(cat_features = ['Employment', 'Shedule','region_short','Region','name_coded','shedule'])"
      ],
      "metadata": {
        "id": "pcjvT2_g-A3E"
      },
      "execution_count": 16,
      "outputs": []
    },
    {
      "cell_type": "code",
      "source": [
        "model.fit(data,y)"
      ],
      "metadata": {
        "id": "y1qdj68vAHFr"
      },
      "execution_count": null,
      "outputs": []
    },
    {
      "cell_type": "code",
      "source": [
        "data.sample(5)"
      ],
      "metadata": {
        "colab": {
          "base_uri": "https://localhost:8080/",
          "height": 287
        },
        "id": "rGh5H77Tfugf",
        "outputId": "5b7400ee-0119-4a9f-f29d-ebb64cd4e146"
      },
      "execution_count": 42,
      "outputs": [
        {
          "output_type": "execute_result",
          "data": {
            "text/plain": [
              "        Sex  Age  Salary Employment Shedule     region_short  drive_A  \\\n",
              "66361     2    0       0       Part    Flex      Воронежская        0   \n",
              "90357     0   49       0       Full    Full  Санкт-Петербург        0   \n",
              "103502    2   46       0       Full    Full      Отсутствует        0   \n",
              "25873     2    0       0       Full    Full      Воронежская        0   \n",
              "11233     2   40       0       Full    Full      Отсутствует        0   \n",
              "\n",
              "        drive_B  drive_C  drive_D  Period  len  num_educ  year_median  \\\n",
              "66361         0        0        0     NaN  NaN       NaN          NaN   \n",
              "90357         0        0        0     NaN  NaN       NaN          NaN   \n",
              "103502        0        0        0     NaN  NaN       NaN          NaN   \n",
              "25873         1        0        0     NaN  NaN       NaN          NaN   \n",
              "11233         0        0        0    24.0  1.0       2.0       2014.0   \n",
              "\n",
              "        year_last Region name_coded shedule  \n",
              "66361         NaN    nan        nan     nan  \n",
              "90357         NaN    nan        nan     nan  \n",
              "103502        NaN    nan        nan     nan  \n",
              "25873         NaN    nan        nan     nan  \n",
              "11233      2014.0    nan        nan     nan  "
            ],
            "text/html": [
              "\n",
              "  <div id=\"df-feb9ba1b-67cc-4c51-982f-a1945768cd69\">\n",
              "    <div class=\"colab-df-container\">\n",
              "      <div>\n",
              "<style scoped>\n",
              "    .dataframe tbody tr th:only-of-type {\n",
              "        vertical-align: middle;\n",
              "    }\n",
              "\n",
              "    .dataframe tbody tr th {\n",
              "        vertical-align: top;\n",
              "    }\n",
              "\n",
              "    .dataframe thead th {\n",
              "        text-align: right;\n",
              "    }\n",
              "</style>\n",
              "<table border=\"1\" class=\"dataframe\">\n",
              "  <thead>\n",
              "    <tr style=\"text-align: right;\">\n",
              "      <th></th>\n",
              "      <th>Sex</th>\n",
              "      <th>Age</th>\n",
              "      <th>Salary</th>\n",
              "      <th>Employment</th>\n",
              "      <th>Shedule</th>\n",
              "      <th>region_short</th>\n",
              "      <th>drive_A</th>\n",
              "      <th>drive_B</th>\n",
              "      <th>drive_C</th>\n",
              "      <th>drive_D</th>\n",
              "      <th>Period</th>\n",
              "      <th>len</th>\n",
              "      <th>num_educ</th>\n",
              "      <th>year_median</th>\n",
              "      <th>year_last</th>\n",
              "      <th>Region</th>\n",
              "      <th>name_coded</th>\n",
              "      <th>shedule</th>\n",
              "    </tr>\n",
              "  </thead>\n",
              "  <tbody>\n",
              "    <tr>\n",
              "      <th>66361</th>\n",
              "      <td>2</td>\n",
              "      <td>0</td>\n",
              "      <td>0</td>\n",
              "      <td>Part</td>\n",
              "      <td>Flex</td>\n",
              "      <td>Воронежская</td>\n",
              "      <td>0</td>\n",
              "      <td>0</td>\n",
              "      <td>0</td>\n",
              "      <td>0</td>\n",
              "      <td>NaN</td>\n",
              "      <td>NaN</td>\n",
              "      <td>NaN</td>\n",
              "      <td>NaN</td>\n",
              "      <td>NaN</td>\n",
              "      <td>nan</td>\n",
              "      <td>nan</td>\n",
              "      <td>nan</td>\n",
              "    </tr>\n",
              "    <tr>\n",
              "      <th>90357</th>\n",
              "      <td>0</td>\n",
              "      <td>49</td>\n",
              "      <td>0</td>\n",
              "      <td>Full</td>\n",
              "      <td>Full</td>\n",
              "      <td>Санкт-Петербург</td>\n",
              "      <td>0</td>\n",
              "      <td>0</td>\n",
              "      <td>0</td>\n",
              "      <td>0</td>\n",
              "      <td>NaN</td>\n",
              "      <td>NaN</td>\n",
              "      <td>NaN</td>\n",
              "      <td>NaN</td>\n",
              "      <td>NaN</td>\n",
              "      <td>nan</td>\n",
              "      <td>nan</td>\n",
              "      <td>nan</td>\n",
              "    </tr>\n",
              "    <tr>\n",
              "      <th>103502</th>\n",
              "      <td>2</td>\n",
              "      <td>46</td>\n",
              "      <td>0</td>\n",
              "      <td>Full</td>\n",
              "      <td>Full</td>\n",
              "      <td>Отсутствует</td>\n",
              "      <td>0</td>\n",
              "      <td>0</td>\n",
              "      <td>0</td>\n",
              "      <td>0</td>\n",
              "      <td>NaN</td>\n",
              "      <td>NaN</td>\n",
              "      <td>NaN</td>\n",
              "      <td>NaN</td>\n",
              "      <td>NaN</td>\n",
              "      <td>nan</td>\n",
              "      <td>nan</td>\n",
              "      <td>nan</td>\n",
              "    </tr>\n",
              "    <tr>\n",
              "      <th>25873</th>\n",
              "      <td>2</td>\n",
              "      <td>0</td>\n",
              "      <td>0</td>\n",
              "      <td>Full</td>\n",
              "      <td>Full</td>\n",
              "      <td>Воронежская</td>\n",
              "      <td>0</td>\n",
              "      <td>1</td>\n",
              "      <td>0</td>\n",
              "      <td>0</td>\n",
              "      <td>NaN</td>\n",
              "      <td>NaN</td>\n",
              "      <td>NaN</td>\n",
              "      <td>NaN</td>\n",
              "      <td>NaN</td>\n",
              "      <td>nan</td>\n",
              "      <td>nan</td>\n",
              "      <td>nan</td>\n",
              "    </tr>\n",
              "    <tr>\n",
              "      <th>11233</th>\n",
              "      <td>2</td>\n",
              "      <td>40</td>\n",
              "      <td>0</td>\n",
              "      <td>Full</td>\n",
              "      <td>Full</td>\n",
              "      <td>Отсутствует</td>\n",
              "      <td>0</td>\n",
              "      <td>0</td>\n",
              "      <td>0</td>\n",
              "      <td>0</td>\n",
              "      <td>24.0</td>\n",
              "      <td>1.0</td>\n",
              "      <td>2.0</td>\n",
              "      <td>2014.0</td>\n",
              "      <td>2014.0</td>\n",
              "      <td>nan</td>\n",
              "      <td>nan</td>\n",
              "      <td>nan</td>\n",
              "    </tr>\n",
              "  </tbody>\n",
              "</table>\n",
              "</div>\n",
              "      <button class=\"colab-df-convert\" onclick=\"convertToInteractive('df-feb9ba1b-67cc-4c51-982f-a1945768cd69')\"\n",
              "              title=\"Convert this dataframe to an interactive table.\"\n",
              "              style=\"display:none;\">\n",
              "        \n",
              "  <svg xmlns=\"http://www.w3.org/2000/svg\" height=\"24px\"viewBox=\"0 0 24 24\"\n",
              "       width=\"24px\">\n",
              "    <path d=\"M0 0h24v24H0V0z\" fill=\"none\"/>\n",
              "    <path d=\"M18.56 5.44l.94 2.06.94-2.06 2.06-.94-2.06-.94-.94-2.06-.94 2.06-2.06.94zm-11 1L8.5 8.5l.94-2.06 2.06-.94-2.06-.94L8.5 2.5l-.94 2.06-2.06.94zm10 10l.94 2.06.94-2.06 2.06-.94-2.06-.94-.94-2.06-.94 2.06-2.06.94z\"/><path d=\"M17.41 7.96l-1.37-1.37c-.4-.4-.92-.59-1.43-.59-.52 0-1.04.2-1.43.59L10.3 9.45l-7.72 7.72c-.78.78-.78 2.05 0 2.83L4 21.41c.39.39.9.59 1.41.59.51 0 1.02-.2 1.41-.59l7.78-7.78 2.81-2.81c.8-.78.8-2.07 0-2.86zM5.41 20L4 18.59l7.72-7.72 1.47 1.35L5.41 20z\"/>\n",
              "  </svg>\n",
              "      </button>\n",
              "      \n",
              "  <style>\n",
              "    .colab-df-container {\n",
              "      display:flex;\n",
              "      flex-wrap:wrap;\n",
              "      gap: 12px;\n",
              "    }\n",
              "\n",
              "    .colab-df-convert {\n",
              "      background-color: #E8F0FE;\n",
              "      border: none;\n",
              "      border-radius: 50%;\n",
              "      cursor: pointer;\n",
              "      display: none;\n",
              "      fill: #1967D2;\n",
              "      height: 32px;\n",
              "      padding: 0 0 0 0;\n",
              "      width: 32px;\n",
              "    }\n",
              "\n",
              "    .colab-df-convert:hover {\n",
              "      background-color: #E2EBFA;\n",
              "      box-shadow: 0px 1px 2px rgba(60, 64, 67, 0.3), 0px 1px 3px 1px rgba(60, 64, 67, 0.15);\n",
              "      fill: #174EA6;\n",
              "    }\n",
              "\n",
              "    [theme=dark] .colab-df-convert {\n",
              "      background-color: #3B4455;\n",
              "      fill: #D2E3FC;\n",
              "    }\n",
              "\n",
              "    [theme=dark] .colab-df-convert:hover {\n",
              "      background-color: #434B5C;\n",
              "      box-shadow: 0px 1px 3px 1px rgba(0, 0, 0, 0.15);\n",
              "      filter: drop-shadow(0px 1px 2px rgba(0, 0, 0, 0.3));\n",
              "      fill: #FFFFFF;\n",
              "    }\n",
              "  </style>\n",
              "\n",
              "      <script>\n",
              "        const buttonEl =\n",
              "          document.querySelector('#df-feb9ba1b-67cc-4c51-982f-a1945768cd69 button.colab-df-convert');\n",
              "        buttonEl.style.display =\n",
              "          google.colab.kernel.accessAllowed ? 'block' : 'none';\n",
              "\n",
              "        async function convertToInteractive(key) {\n",
              "          const element = document.querySelector('#df-feb9ba1b-67cc-4c51-982f-a1945768cd69');\n",
              "          const dataTable =\n",
              "            await google.colab.kernel.invokeFunction('convertToInteractive',\n",
              "                                                     [key], {});\n",
              "          if (!dataTable) return;\n",
              "\n",
              "          const docLinkHtml = 'Like what you see? Visit the ' +\n",
              "            '<a target=\"_blank\" href=https://colab.research.google.com/notebooks/data_table.ipynb>data table notebook</a>'\n",
              "            + ' to learn more about interactive tables.';\n",
              "          element.innerHTML = '';\n",
              "          dataTable['output_type'] = 'display_data';\n",
              "          await google.colab.output.renderOutput(dataTable, element);\n",
              "          const docLink = document.createElement('div');\n",
              "          docLink.innerHTML = docLinkHtml;\n",
              "          element.appendChild(docLink);\n",
              "        }\n",
              "      </script>\n",
              "    </div>\n",
              "  </div>\n",
              "  "
            ]
          },
          "metadata": {},
          "execution_count": 42
        }
      ]
    },
    {
      "cell_type": "code",
      "source": [
        "data.dtypes"
      ],
      "metadata": {
        "colab": {
          "base_uri": "https://localhost:8080/"
        },
        "id": "wAIl-7CH-CnX",
        "outputId": "f0a85d0a-a2a4-4f3e-a433-752e8e8b593d"
      },
      "execution_count": 57,
      "outputs": [
        {
          "output_type": "execute_result",
          "data": {
            "text/plain": [
              "Sex               int64\n",
              "Age               int64\n",
              "Salary            int64\n",
              "Employment       object\n",
              "Shedule          object\n",
              "region_short     object\n",
              "drive_A           int64\n",
              "drive_B           int64\n",
              "drive_C           int64\n",
              "drive_D           int64\n",
              "Period          float64\n",
              "len             float64\n",
              "num_educ        float64\n",
              "year_median     float64\n",
              "year_last       float64\n",
              "Region           object\n",
              "name_coded       object\n",
              "shedule          object\n",
              "dtype: object"
            ]
          },
          "metadata": {},
          "execution_count": 57
        }
      ]
    },
    {
      "cell_type": "code",
      "source": [
        "model.predict(data.sample(60))"
      ],
      "metadata": {
        "colab": {
          "base_uri": "https://localhost:8080/"
        },
        "id": "o3JA6oExf6ax",
        "outputId": "74b60dcd-5ff4-4921-e846-95be2ff9dd85"
      },
      "execution_count": 40,
      "outputs": [
        {
          "output_type": "execute_result",
          "data": {
            "text/plain": [
              "array([0.48661924, 0.54075332, 0.50955758, 0.5517972 , 0.5221456 ,\n",
              "       0.4461645 , 0.50956251, 0.5383308 , 0.53525666, 0.50956251,\n",
              "       0.31671182, 0.44236385, 0.51845275, 0.45069153, 0.39892195,\n",
              "       0.53074968, 0.1237265 , 0.55767303, 0.5063938 , 0.52398866,\n",
              "       0.50956251, 0.36113406, 0.47324583, 0.35781425, 0.54069237,\n",
              "       0.70268894, 0.54299665, 0.56104792, 0.53074968, 0.43121137,\n",
              "       0.47256151, 0.4675719 , 0.71075196, 0.37287764, 0.50956251,\n",
              "       0.46638275, 0.44803728, 0.50956251, 0.44803728, 0.54942609,\n",
              "       0.53168518, 0.50956251, 0.43444558, 0.70196966, 0.47650742,\n",
              "       0.41468368, 0.64306785, 0.43396898, 0.39116184, 0.49172692,\n",
              "       0.38673229, 0.53074968, 0.35522312, 0.45372799, 0.3524604 ,\n",
              "       0.59895407, 0.47305874, 0.49574206, 0.46065518, 0.55070615])"
            ]
          },
          "metadata": {},
          "execution_count": 40
        }
      ]
    },
    {
      "cell_type": "code",
      "source": [
        "import pickle\n",
        "filename = 'finalized_model.pkl'\n",
        "pickle.dump(model, open(filename, 'wb'))"
      ],
      "metadata": {
        "id": "nLZicykCEsgL"
      },
      "execution_count": 45,
      "outputs": []
    },
    {
      "cell_type": "code",
      "source": [
        "from google.colab import files\n",
        "files.download(filename)"
      ],
      "metadata": {
        "colab": {
          "base_uri": "https://localhost:8080/",
          "height": 17
        },
        "id": "RKX5CyREHFOJ",
        "outputId": "ff0ac939-c6a5-4f1d-b017-294f26d65fe8"
      },
      "execution_count": 19,
      "outputs": [
        {
          "output_type": "display_data",
          "data": {
            "text/plain": [
              "<IPython.core.display.Javascript object>"
            ],
            "application/javascript": [
              "\n",
              "    async function download(id, filename, size) {\n",
              "      if (!google.colab.kernel.accessAllowed) {\n",
              "        return;\n",
              "      }\n",
              "      const div = document.createElement('div');\n",
              "      const label = document.createElement('label');\n",
              "      label.textContent = `Downloading \"${filename}\": `;\n",
              "      div.appendChild(label);\n",
              "      const progress = document.createElement('progress');\n",
              "      progress.max = size;\n",
              "      div.appendChild(progress);\n",
              "      document.body.appendChild(div);\n",
              "\n",
              "      const buffers = [];\n",
              "      let downloaded = 0;\n",
              "\n",
              "      const channel = await google.colab.kernel.comms.open(id);\n",
              "      // Send a message to notify the kernel that we're ready.\n",
              "      channel.send({})\n",
              "\n",
              "      for await (const message of channel.messages) {\n",
              "        // Send a message to notify the kernel that we're ready.\n",
              "        channel.send({})\n",
              "        if (message.buffers) {\n",
              "          for (const buffer of message.buffers) {\n",
              "            buffers.push(buffer);\n",
              "            downloaded += buffer.byteLength;\n",
              "            progress.value = downloaded;\n",
              "          }\n",
              "        }\n",
              "      }\n",
              "      const blob = new Blob(buffers, {type: 'application/binary'});\n",
              "      const a = document.createElement('a');\n",
              "      a.href = window.URL.createObjectURL(blob);\n",
              "      a.download = filename;\n",
              "      div.appendChild(a);\n",
              "      a.click();\n",
              "      div.remove();\n",
              "    }\n",
              "  "
            ]
          },
          "metadata": {}
        },
        {
          "output_type": "display_data",
          "data": {
            "text/plain": [
              "<IPython.core.display.Javascript object>"
            ],
            "application/javascript": [
              "download(\"download_21c72ef1-a914-434b-99cf-d6364b0163fc\", \"finalized_model.sav\", 1596237)"
            ]
          },
          "metadata": {}
        }
      ]
    },
    {
      "cell_type": "code",
      "source": [
        "import joblib"
      ],
      "metadata": {
        "id": "ib1I1GWM2DZ2"
      },
      "execution_count": 43,
      "outputs": []
    },
    {
      "cell_type": "code",
      "source": [
        "filename = 'finalized_model.sav'\n",
        "joblib.dump(model, filename)"
      ],
      "metadata": {
        "colab": {
          "base_uri": "https://localhost:8080/"
        },
        "id": "5Az2QgVnE__X",
        "outputId": "b83f692f-9582-4734-ec15-6345bbf14824"
      },
      "execution_count": 44,
      "outputs": [
        {
          "output_type": "execute_result",
          "data": {
            "text/plain": [
              "['finalized_model.sav']"
            ]
          },
          "metadata": {},
          "execution_count": 44
        }
      ]
    }
  ]
}